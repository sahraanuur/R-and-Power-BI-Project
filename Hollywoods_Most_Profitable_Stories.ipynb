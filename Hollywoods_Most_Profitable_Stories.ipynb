{
  "nbformat": 4,
  "nbformat_minor": 0,
  "metadata": {
    "colab": {
      "provenance": [],
      "mount_file_id": "1pH2NhILtK8VkTOlLMgg_BprQuyfNp8zK",
      "authorship_tag": "ABX9TyMpSCLjGKjZXmjWYvmGIURe",
      "include_colab_link": true
    },
    "kernelspec": {
      "name": "ir",
      "display_name": "R"
    },
    "language_info": {
      "name": "R"
    }
  },
  "cells": [
    {
      "cell_type": "markdown",
      "metadata": {
        "id": "view-in-github",
        "colab_type": "text"
      },
      "source": [
        "<a href=\"https://colab.research.google.com/github/sahraanuur/R-and-Power-BI-Project/blob/main/Hollywoods_Most_Profitable_Stories.ipynb\" target=\"_parent\"><img src=\"https://colab.research.google.com/assets/colab-badge.svg\" alt=\"Open In Colab\"/></a>"
      ]
    },
    {
      "cell_type": "markdown",
      "source": [
        "# Step 1: Initial Exploratory Analysis"
      ],
      "metadata": {
        "id": "zf8iaW8mrTaT"
      }
    },
    {
      "cell_type": "code",
      "execution_count": null,
      "metadata": {
        "id": "miBipXexlqf3",
        "colab": {
          "base_uri": "https://localhost:8080/",
          "height": 1000
        },
        "outputId": "e0a9e35c-218d-4dd8-881e-667233b7997c"
      },
      "outputs": [
        {
          "output_type": "display_data",
          "data": {
            "text/plain": [
              "   Film                                Genre     Lead.Studio          \n",
              "1  27 Dresses                          Comedy    Fox                  \n",
              "2  (500) Days of Summer                Comedy    Fox                  \n",
              "3  A Dangerous Method                  Drama     Independent          \n",
              "4  A Serious Man                       Drama     Universal            \n",
              "5  Across the Universe                 Romance   Independent          \n",
              "6  Beginners                           Comedy    Independent          \n",
              "7  Dear John                           Drama     Sony                 \n",
              "8  Enchanted                           Comedy    Disney               \n",
              "9  Fireproof                           Drama     Independent          \n",
              "10 Four Christmases                    Comedy    Warner Bros.         \n",
              "11 Ghosts of Girlfriends Past          Comedy    Warner Bros.         \n",
              "12 Gnomeo and Juliet                   Animation Disney               \n",
              "13 Going the Distance                  Comedy    Warner Bros.         \n",
              "14 Good Luck Chuck                     Comedy    Lionsgate            \n",
              "15 He's Just Not That Into You         Comedy    Warner Bros.         \n",
              "16 High School Musical 3: Senior Year  Comedy    Disney               \n",
              "17 I Love You Phillip Morris           Comedy    Independent          \n",
              "18 It's Complicated                    Comedy    Universal            \n",
              "19 Jane Eyre                           Romance   Universal            \n",
              "20 Just Wright                         Comedy    Fox                  \n",
              "21 Killers                             Action    Lionsgate            \n",
              "22 Knocked Up                          Comedy    Universal            \n",
              "23 Leap Year                           Comedy    Universal            \n",
              "24 Letters to Juliet                   Comedy    Summit               \n",
              "25 License to Wed                      Comedy    Warner Bros.         \n",
              "26 Life as We Know It                  Comedy    Independent          \n",
              "27 Love & Other Drugs                  Comedy    Fox                  \n",
              "28 Love Happens                        Drama     Universal            \n",
              "29 Made of Honor                       Comedy    Sony                 \n",
              "30 Mamma Mia!                          Comedy    Universal            \n",
              "⋮  ⋮                                   ⋮         ⋮                    \n",
              "45 Penelope                            Comedy    Summit               \n",
              "46 Rachel Getting Married              Drama     Independent          \n",
              "47 Remember Me                         Drama     Summit               \n",
              "48 Sex and the City                    Comedy    Warner Bros.         \n",
              "49 Sex and the City 2                  Comedy    Warner Bros.         \n",
              "50 She's Out of My League              Comedy    Paramount            \n",
              "51 Something Borrowed                  Romance   Independent          \n",
              "52 Tangled                             Animation Disney               \n",
              "53 The Back-up Plan                    Comedy    CBS                  \n",
              "54 The Curious Case of Benjamin Button Fantasy   Warner Bros.         \n",
              "55 The Duchess                         Drama     Paramount            \n",
              "56 The Heartbreak Kid                  Comedy    Paramount            \n",
              "57 The Invention of Lying              Comedy    Warner Bros.         \n",
              "58 The Proposal                        Comedy    Disney               \n",
              "59 The Time Traveler's Wife            Drama     Paramount            \n",
              "60 The Twilight Saga: New Moon         Drama     Summit               \n",
              "61 The Ugly Truth                      Comedy    Independent          \n",
              "62 Twilight                            Romance   Summit               \n",
              "63 Twilight: Breaking Dawn             Romance   Independent          \n",
              "64 Tyler Perry's Why Did I get Married Romance   Independent          \n",
              "65 Valentine's Day                     Comedy    Warner Bros.         \n",
              "66 Waiting For Forever                 Romance   Independent          \n",
              "67 Waitress                            Romance   Independent          \n",
              "68 WALL-E                              Animation Disney               \n",
              "69 Water For Elephants                 Drama     20th Century Fox     \n",
              "70 What Happens in Vegas               Comedy    Fox                  \n",
              "71 When in Rome                        Comedy    Disney               \n",
              "72 You Will Meet a Tall Dark Stranger  Comedy    Independent          \n",
              "73 Youth in Revolt                     Comedy    The Weinstein Company\n",
              "74 Zack and Miri Make a Porno          Romance   The Weinstein Company\n",
              "   Audience..score.. Profitability Rotten.Tomatoes.. Worldwide.Gross Year\n",
              "1  71                 5.3436218    40                160.308654      2008\n",
              "2  81                 8.0960000    87                 60.720000      2009\n",
              "3  89                 0.4486447    79                  8.972895      2011\n",
              "4  64                 4.3828571    89                 30.680000      2009\n",
              "5  84                 0.6526032    54                 29.367143      2007\n",
              "6  80                 4.4718750    84                 14.310000      2011\n",
              "7  66                 4.5988000    29                114.970000      2010\n",
              "8  80                 4.0057371    93                340.487652      2007\n",
              "9  51                66.9340000    40                 33.467000      2008\n",
              "10 52                 2.0229250    26                161.834000      2008\n",
              "11 47                 2.0444000    27                102.220000      2009\n",
              "12 52                 5.3879722    56                193.967000      2011\n",
              "13 56                 1.3140625    53                 42.050000      2010\n",
              "14 61                 2.3676851     3                 59.192128      2007\n",
              "15 60                 7.1536000    42                178.840000      2009\n",
              "16 76                22.9131365    65                252.044501      2008\n",
              "17 57                 1.3400000    71                 20.100000      2010\n",
              "18 63                 2.6423529    56                224.600000      2009\n",
              "19 77                        NA    85                 30.147000      2011\n",
              "20 58                 1.7974167    45                 21.569000      2010\n",
              "21 45                 1.2453333    11                 93.400000      2010\n",
              "22 83                 6.6364018    91                219.001261      2007\n",
              "23 49                 1.7152632    21                 32.590000      2010\n",
              "24 62                 2.6393333    40                 79.180000      2010\n",
              "25 55                 1.9802064     8                 69.307224      2007\n",
              "26 62                 2.5305263    28                 96.160000      2010\n",
              "27 55                 1.8176667    48                 54.530000      2010\n",
              "28 40                 2.0044444    18                 36.080000      2009\n",
              "29 61                 2.6490683    13                105.962734      2008\n",
              "30 76                 9.2344539    53                609.473955      2008\n",
              "⋮  ⋮                 ⋮             ⋮                 ⋮               ⋮   \n",
              "45 74                 1.382800     52                 20.74200       2008\n",
              "46 61                 1.384167     85                 16.61000       2008\n",
              "47 70                 3.491250     28                 55.86000       2010\n",
              "48 81                 7.221796     49                415.25326       2008\n",
              "49 49                 2.883500     15                288.35000       2010\n",
              "50 60                 2.440500     57                 48.81000       2010\n",
              "51 NA                 1.719514     NA                 60.18300       2011\n",
              "52 88                 1.365692     89                355.08000       2010\n",
              "53 47                 2.202571     20                 77.09000       2010\n",
              "54 81                 1.783944     73                285.43100       2008\n",
              "55 68                 3.207850     60                 43.30598       2008\n",
              "56 41                 2.129444     30                127.76665       2007\n",
              "57 47                 1.751351     56                 32.40000       2009\n",
              "58 74                 7.867500     43                314.70000       2009\n",
              "59 65                 2.598205     38                101.33000       2009\n",
              "60 78                14.196400     27                709.82000       2009\n",
              "61 68                 5.402632     14                205.30000       2009\n",
              "62 82                10.180027     49                376.66100       2008\n",
              "63 68                 6.383364     26                702.17000       2011\n",
              "64 47                 3.724192     46                 55.86289       2007\n",
              "65 54                 4.184038     17                217.57000       2010\n",
              "66 53                 0.005000      6                  0.02500       2011\n",
              "67 67                11.089742     89                 22.17948       2007\n",
              "68 89                 2.896019     96                521.28343       2008\n",
              "69 72                 3.081421     60                117.09400       2011\n",
              "70 72                 6.267647     28                219.36765       2008\n",
              "71 44                       NA     15                 43.04000       2010\n",
              "72 35                 1.211818     43                 26.66000       2010\n",
              "73 52                 1.090000     68                 19.62000       2010\n",
              "74 70                 1.747542     64                 41.94100       2008"
            ],
            "text/html": [
              "<table class=\"dataframe\">\n",
              "<caption>A data.frame: 74 × 8</caption>\n",
              "<thead>\n",
              "\t<tr><th scope=col>Film</th><th scope=col>Genre</th><th scope=col>Lead.Studio</th><th scope=col>Audience..score..</th><th scope=col>Profitability</th><th scope=col>Rotten.Tomatoes..</th><th scope=col>Worldwide.Gross</th><th scope=col>Year</th></tr>\n",
              "\t<tr><th scope=col>&lt;chr&gt;</th><th scope=col>&lt;chr&gt;</th><th scope=col>&lt;chr&gt;</th><th scope=col>&lt;int&gt;</th><th scope=col>&lt;dbl&gt;</th><th scope=col>&lt;int&gt;</th><th scope=col>&lt;dbl&gt;</th><th scope=col>&lt;int&gt;</th></tr>\n",
              "</thead>\n",
              "<tbody>\n",
              "\t<tr><td>27 Dresses                        </td><td>Comedy   </td><td>Fox         </td><td>71</td><td> 5.3436218</td><td>40</td><td>160.308654</td><td>2008</td></tr>\n",
              "\t<tr><td>(500) Days of Summer              </td><td>Comedy   </td><td>Fox         </td><td>81</td><td> 8.0960000</td><td>87</td><td> 60.720000</td><td>2009</td></tr>\n",
              "\t<tr><td>A Dangerous Method                </td><td>Drama    </td><td>Independent </td><td>89</td><td> 0.4486447</td><td>79</td><td>  8.972895</td><td>2011</td></tr>\n",
              "\t<tr><td>A Serious Man                     </td><td>Drama    </td><td>Universal   </td><td>64</td><td> 4.3828571</td><td>89</td><td> 30.680000</td><td>2009</td></tr>\n",
              "\t<tr><td>Across the Universe               </td><td>Romance  </td><td>Independent </td><td>84</td><td> 0.6526032</td><td>54</td><td> 29.367143</td><td>2007</td></tr>\n",
              "\t<tr><td>Beginners                         </td><td>Comedy   </td><td>Independent </td><td>80</td><td> 4.4718750</td><td>84</td><td> 14.310000</td><td>2011</td></tr>\n",
              "\t<tr><td>Dear John                         </td><td>Drama    </td><td>Sony        </td><td>66</td><td> 4.5988000</td><td>29</td><td>114.970000</td><td>2010</td></tr>\n",
              "\t<tr><td>Enchanted                         </td><td>Comedy   </td><td>Disney      </td><td>80</td><td> 4.0057371</td><td>93</td><td>340.487652</td><td>2007</td></tr>\n",
              "\t<tr><td>Fireproof                         </td><td>Drama    </td><td>Independent </td><td>51</td><td>66.9340000</td><td>40</td><td> 33.467000</td><td>2008</td></tr>\n",
              "\t<tr><td>Four Christmases                  </td><td>Comedy   </td><td>Warner Bros.</td><td>52</td><td> 2.0229250</td><td>26</td><td>161.834000</td><td>2008</td></tr>\n",
              "\t<tr><td>Ghosts of Girlfriends Past        </td><td>Comedy   </td><td>Warner Bros.</td><td>47</td><td> 2.0444000</td><td>27</td><td>102.220000</td><td>2009</td></tr>\n",
              "\t<tr><td>Gnomeo and Juliet                 </td><td>Animation</td><td>Disney      </td><td>52</td><td> 5.3879722</td><td>56</td><td>193.967000</td><td>2011</td></tr>\n",
              "\t<tr><td>Going the Distance                </td><td>Comedy   </td><td>Warner Bros.</td><td>56</td><td> 1.3140625</td><td>53</td><td> 42.050000</td><td>2010</td></tr>\n",
              "\t<tr><td>Good Luck Chuck                   </td><td>Comedy   </td><td>Lionsgate   </td><td>61</td><td> 2.3676851</td><td> 3</td><td> 59.192128</td><td>2007</td></tr>\n",
              "\t<tr><td>He's Just Not That Into You       </td><td>Comedy   </td><td>Warner Bros.</td><td>60</td><td> 7.1536000</td><td>42</td><td>178.840000</td><td>2009</td></tr>\n",
              "\t<tr><td>High School Musical 3: Senior Year</td><td>Comedy   </td><td>Disney      </td><td>76</td><td>22.9131365</td><td>65</td><td>252.044501</td><td>2008</td></tr>\n",
              "\t<tr><td>I Love You Phillip Morris         </td><td>Comedy   </td><td>Independent </td><td>57</td><td> 1.3400000</td><td>71</td><td> 20.100000</td><td>2010</td></tr>\n",
              "\t<tr><td>It's Complicated                  </td><td>Comedy   </td><td>Universal   </td><td>63</td><td> 2.6423529</td><td>56</td><td>224.600000</td><td>2009</td></tr>\n",
              "\t<tr><td>Jane Eyre                         </td><td>Romance  </td><td>Universal   </td><td>77</td><td>        NA</td><td>85</td><td> 30.147000</td><td>2011</td></tr>\n",
              "\t<tr><td>Just Wright                       </td><td>Comedy   </td><td>Fox         </td><td>58</td><td> 1.7974167</td><td>45</td><td> 21.569000</td><td>2010</td></tr>\n",
              "\t<tr><td>Killers                           </td><td>Action   </td><td>Lionsgate   </td><td>45</td><td> 1.2453333</td><td>11</td><td> 93.400000</td><td>2010</td></tr>\n",
              "\t<tr><td>Knocked Up                        </td><td>Comedy   </td><td>Universal   </td><td>83</td><td> 6.6364018</td><td>91</td><td>219.001261</td><td>2007</td></tr>\n",
              "\t<tr><td>Leap Year                         </td><td>Comedy   </td><td>Universal   </td><td>49</td><td> 1.7152632</td><td>21</td><td> 32.590000</td><td>2010</td></tr>\n",
              "\t<tr><td>Letters to Juliet                 </td><td>Comedy   </td><td>Summit      </td><td>62</td><td> 2.6393333</td><td>40</td><td> 79.180000</td><td>2010</td></tr>\n",
              "\t<tr><td>License to Wed                    </td><td>Comedy   </td><td>Warner Bros.</td><td>55</td><td> 1.9802064</td><td> 8</td><td> 69.307224</td><td>2007</td></tr>\n",
              "\t<tr><td>Life as We Know It                </td><td>Comedy   </td><td>Independent </td><td>62</td><td> 2.5305263</td><td>28</td><td> 96.160000</td><td>2010</td></tr>\n",
              "\t<tr><td><span style=white-space:pre-wrap>Love &amp; Other Drugs                </span></td><td><span style=white-space:pre-wrap>Comedy   </span></td><td><span style=white-space:pre-wrap>Fox         </span></td><td>55</td><td> 1.8176667</td><td>48</td><td> 54.530000</td><td>2010</td></tr>\n",
              "\t<tr><td>Love Happens                      </td><td>Drama    </td><td>Universal   </td><td>40</td><td> 2.0044444</td><td>18</td><td> 36.080000</td><td>2009</td></tr>\n",
              "\t<tr><td>Made of Honor                     </td><td>Comedy   </td><td>Sony        </td><td>61</td><td> 2.6490683</td><td>13</td><td>105.962734</td><td>2008</td></tr>\n",
              "\t<tr><td>Mamma Mia!                        </td><td>Comedy   </td><td>Universal   </td><td>76</td><td> 9.2344539</td><td>53</td><td>609.473955</td><td>2008</td></tr>\n",
              "\t<tr><td>⋮</td><td>⋮</td><td>⋮</td><td>⋮</td><td>⋮</td><td>⋮</td><td>⋮</td><td>⋮</td></tr>\n",
              "\t<tr><td>Penelope                           </td><td>Comedy   </td><td>Summit               </td><td>74</td><td> 1.382800</td><td>52</td><td> 20.74200</td><td>2008</td></tr>\n",
              "\t<tr><td>Rachel Getting Married             </td><td>Drama    </td><td>Independent          </td><td>61</td><td> 1.384167</td><td>85</td><td> 16.61000</td><td>2008</td></tr>\n",
              "\t<tr><td>Remember Me                        </td><td>Drama    </td><td>Summit               </td><td>70</td><td> 3.491250</td><td>28</td><td> 55.86000</td><td>2010</td></tr>\n",
              "\t<tr><td>Sex and the City                   </td><td>Comedy   </td><td>Warner Bros.         </td><td>81</td><td> 7.221796</td><td>49</td><td>415.25326</td><td>2008</td></tr>\n",
              "\t<tr><td>Sex and the City 2                 </td><td>Comedy   </td><td>Warner Bros.         </td><td>49</td><td> 2.883500</td><td>15</td><td>288.35000</td><td>2010</td></tr>\n",
              "\t<tr><td>She's Out of My League             </td><td>Comedy   </td><td>Paramount            </td><td>60</td><td> 2.440500</td><td>57</td><td> 48.81000</td><td>2010</td></tr>\n",
              "\t<tr><td>Something Borrowed                 </td><td>Romance  </td><td>Independent          </td><td>NA</td><td> 1.719514</td><td>NA</td><td> 60.18300</td><td>2011</td></tr>\n",
              "\t<tr><td>Tangled                            </td><td>Animation</td><td>Disney               </td><td>88</td><td> 1.365692</td><td>89</td><td>355.08000</td><td>2010</td></tr>\n",
              "\t<tr><td>The Back-up Plan                   </td><td>Comedy   </td><td>CBS                  </td><td>47</td><td> 2.202571</td><td>20</td><td> 77.09000</td><td>2010</td></tr>\n",
              "\t<tr><td>The Curious Case of Benjamin Button</td><td>Fantasy  </td><td>Warner Bros.         </td><td>81</td><td> 1.783944</td><td>73</td><td>285.43100</td><td>2008</td></tr>\n",
              "\t<tr><td>The Duchess                        </td><td>Drama    </td><td>Paramount            </td><td>68</td><td> 3.207850</td><td>60</td><td> 43.30598</td><td>2008</td></tr>\n",
              "\t<tr><td>The Heartbreak Kid                 </td><td>Comedy   </td><td>Paramount            </td><td>41</td><td> 2.129444</td><td>30</td><td>127.76665</td><td>2007</td></tr>\n",
              "\t<tr><td>The Invention of Lying             </td><td>Comedy   </td><td>Warner Bros.         </td><td>47</td><td> 1.751351</td><td>56</td><td> 32.40000</td><td>2009</td></tr>\n",
              "\t<tr><td>The Proposal                       </td><td>Comedy   </td><td>Disney               </td><td>74</td><td> 7.867500</td><td>43</td><td>314.70000</td><td>2009</td></tr>\n",
              "\t<tr><td>The Time Traveler's Wife           </td><td>Drama    </td><td>Paramount            </td><td>65</td><td> 2.598205</td><td>38</td><td>101.33000</td><td>2009</td></tr>\n",
              "\t<tr><td>The Twilight Saga: New Moon        </td><td>Drama    </td><td>Summit               </td><td>78</td><td>14.196400</td><td>27</td><td>709.82000</td><td>2009</td></tr>\n",
              "\t<tr><td>The Ugly Truth                     </td><td>Comedy   </td><td>Independent          </td><td>68</td><td> 5.402632</td><td>14</td><td>205.30000</td><td>2009</td></tr>\n",
              "\t<tr><td>Twilight                           </td><td>Romance  </td><td>Summit               </td><td>82</td><td>10.180027</td><td>49</td><td>376.66100</td><td>2008</td></tr>\n",
              "\t<tr><td>Twilight: Breaking Dawn            </td><td>Romance  </td><td>Independent          </td><td>68</td><td> 6.383364</td><td>26</td><td>702.17000</td><td>2011</td></tr>\n",
              "\t<tr><td>Tyler Perry's Why Did I get Married</td><td>Romance  </td><td>Independent          </td><td>47</td><td> 3.724192</td><td>46</td><td> 55.86289</td><td>2007</td></tr>\n",
              "\t<tr><td>Valentine's Day                    </td><td>Comedy   </td><td>Warner Bros.         </td><td>54</td><td> 4.184038</td><td>17</td><td>217.57000</td><td>2010</td></tr>\n",
              "\t<tr><td>Waiting For Forever                </td><td>Romance  </td><td>Independent          </td><td>53</td><td> 0.005000</td><td> 6</td><td>  0.02500</td><td>2011</td></tr>\n",
              "\t<tr><td>Waitress                           </td><td>Romance  </td><td>Independent          </td><td>67</td><td>11.089742</td><td>89</td><td> 22.17948</td><td>2007</td></tr>\n",
              "\t<tr><td>WALL-E                             </td><td>Animation</td><td>Disney               </td><td>89</td><td> 2.896019</td><td>96</td><td>521.28343</td><td>2008</td></tr>\n",
              "\t<tr><td>Water For Elephants                </td><td>Drama    </td><td>20th Century Fox     </td><td>72</td><td> 3.081421</td><td>60</td><td>117.09400</td><td>2011</td></tr>\n",
              "\t<tr><td>What Happens in Vegas              </td><td>Comedy   </td><td>Fox                  </td><td>72</td><td> 6.267647</td><td>28</td><td>219.36765</td><td>2008</td></tr>\n",
              "\t<tr><td>When in Rome                       </td><td>Comedy   </td><td>Disney               </td><td>44</td><td>       NA</td><td>15</td><td> 43.04000</td><td>2010</td></tr>\n",
              "\t<tr><td>You Will Meet a Tall Dark Stranger </td><td>Comedy   </td><td>Independent          </td><td>35</td><td> 1.211818</td><td>43</td><td> 26.66000</td><td>2010</td></tr>\n",
              "\t<tr><td>Youth in Revolt                    </td><td>Comedy   </td><td>The Weinstein Company</td><td>52</td><td> 1.090000</td><td>68</td><td> 19.62000</td><td>2010</td></tr>\n",
              "\t<tr><td>Zack and Miri Make a Porno         </td><td>Romance  </td><td>The Weinstein Company</td><td>70</td><td> 1.747542</td><td>64</td><td> 41.94100</td><td>2008</td></tr>\n",
              "</tbody>\n",
              "</table>\n"
            ],
            "text/markdown": "\nA data.frame: 74 × 8\n\n| Film &lt;chr&gt; | Genre &lt;chr&gt; | Lead.Studio &lt;chr&gt; | Audience..score.. &lt;int&gt; | Profitability &lt;dbl&gt; | Rotten.Tomatoes.. &lt;int&gt; | Worldwide.Gross &lt;dbl&gt; | Year &lt;int&gt; |\n|---|---|---|---|---|---|---|---|\n| 27 Dresses                         | Comedy    | Fox          | 71 |  5.3436218 | 40 | 160.308654 | 2008 |\n| (500) Days of Summer               | Comedy    | Fox          | 81 |  8.0960000 | 87 |  60.720000 | 2009 |\n| A Dangerous Method                 | Drama     | Independent  | 89 |  0.4486447 | 79 |   8.972895 | 2011 |\n| A Serious Man                      | Drama     | Universal    | 64 |  4.3828571 | 89 |  30.680000 | 2009 |\n| Across the Universe                | Romance   | Independent  | 84 |  0.6526032 | 54 |  29.367143 | 2007 |\n| Beginners                          | Comedy    | Independent  | 80 |  4.4718750 | 84 |  14.310000 | 2011 |\n| Dear John                          | Drama     | Sony         | 66 |  4.5988000 | 29 | 114.970000 | 2010 |\n| Enchanted                          | Comedy    | Disney       | 80 |  4.0057371 | 93 | 340.487652 | 2007 |\n| Fireproof                          | Drama     | Independent  | 51 | 66.9340000 | 40 |  33.467000 | 2008 |\n| Four Christmases                   | Comedy    | Warner Bros. | 52 |  2.0229250 | 26 | 161.834000 | 2008 |\n| Ghosts of Girlfriends Past         | Comedy    | Warner Bros. | 47 |  2.0444000 | 27 | 102.220000 | 2009 |\n| Gnomeo and Juliet                  | Animation | Disney       | 52 |  5.3879722 | 56 | 193.967000 | 2011 |\n| Going the Distance                 | Comedy    | Warner Bros. | 56 |  1.3140625 | 53 |  42.050000 | 2010 |\n| Good Luck Chuck                    | Comedy    | Lionsgate    | 61 |  2.3676851 |  3 |  59.192128 | 2007 |\n| He's Just Not That Into You        | Comedy    | Warner Bros. | 60 |  7.1536000 | 42 | 178.840000 | 2009 |\n| High School Musical 3: Senior Year | Comedy    | Disney       | 76 | 22.9131365 | 65 | 252.044501 | 2008 |\n| I Love You Phillip Morris          | Comedy    | Independent  | 57 |  1.3400000 | 71 |  20.100000 | 2010 |\n| It's Complicated                   | Comedy    | Universal    | 63 |  2.6423529 | 56 | 224.600000 | 2009 |\n| Jane Eyre                          | Romance   | Universal    | 77 |         NA | 85 |  30.147000 | 2011 |\n| Just Wright                        | Comedy    | Fox          | 58 |  1.7974167 | 45 |  21.569000 | 2010 |\n| Killers                            | Action    | Lionsgate    | 45 |  1.2453333 | 11 |  93.400000 | 2010 |\n| Knocked Up                         | Comedy    | Universal    | 83 |  6.6364018 | 91 | 219.001261 | 2007 |\n| Leap Year                          | Comedy    | Universal    | 49 |  1.7152632 | 21 |  32.590000 | 2010 |\n| Letters to Juliet                  | Comedy    | Summit       | 62 |  2.6393333 | 40 |  79.180000 | 2010 |\n| License to Wed                     | Comedy    | Warner Bros. | 55 |  1.9802064 |  8 |  69.307224 | 2007 |\n| Life as We Know It                 | Comedy    | Independent  | 62 |  2.5305263 | 28 |  96.160000 | 2010 |\n| Love &amp; Other Drugs                 | Comedy    | Fox          | 55 |  1.8176667 | 48 |  54.530000 | 2010 |\n| Love Happens                       | Drama     | Universal    | 40 |  2.0044444 | 18 |  36.080000 | 2009 |\n| Made of Honor                      | Comedy    | Sony         | 61 |  2.6490683 | 13 | 105.962734 | 2008 |\n| Mamma Mia!                         | Comedy    | Universal    | 76 |  9.2344539 | 53 | 609.473955 | 2008 |\n| ⋮ | ⋮ | ⋮ | ⋮ | ⋮ | ⋮ | ⋮ | ⋮ |\n| Penelope                            | Comedy    | Summit                | 74 |  1.382800 | 52 |  20.74200 | 2008 |\n| Rachel Getting Married              | Drama     | Independent           | 61 |  1.384167 | 85 |  16.61000 | 2008 |\n| Remember Me                         | Drama     | Summit                | 70 |  3.491250 | 28 |  55.86000 | 2010 |\n| Sex and the City                    | Comedy    | Warner Bros.          | 81 |  7.221796 | 49 | 415.25326 | 2008 |\n| Sex and the City 2                  | Comedy    | Warner Bros.          | 49 |  2.883500 | 15 | 288.35000 | 2010 |\n| She's Out of My League              | Comedy    | Paramount             | 60 |  2.440500 | 57 |  48.81000 | 2010 |\n| Something Borrowed                  | Romance   | Independent           | NA |  1.719514 | NA |  60.18300 | 2011 |\n| Tangled                             | Animation | Disney                | 88 |  1.365692 | 89 | 355.08000 | 2010 |\n| The Back-up Plan                    | Comedy    | CBS                   | 47 |  2.202571 | 20 |  77.09000 | 2010 |\n| The Curious Case of Benjamin Button | Fantasy   | Warner Bros.          | 81 |  1.783944 | 73 | 285.43100 | 2008 |\n| The Duchess                         | Drama     | Paramount             | 68 |  3.207850 | 60 |  43.30598 | 2008 |\n| The Heartbreak Kid                  | Comedy    | Paramount             | 41 |  2.129444 | 30 | 127.76665 | 2007 |\n| The Invention of Lying              | Comedy    | Warner Bros.          | 47 |  1.751351 | 56 |  32.40000 | 2009 |\n| The Proposal                        | Comedy    | Disney                | 74 |  7.867500 | 43 | 314.70000 | 2009 |\n| The Time Traveler's Wife            | Drama     | Paramount             | 65 |  2.598205 | 38 | 101.33000 | 2009 |\n| The Twilight Saga: New Moon         | Drama     | Summit                | 78 | 14.196400 | 27 | 709.82000 | 2009 |\n| The Ugly Truth                      | Comedy    | Independent           | 68 |  5.402632 | 14 | 205.30000 | 2009 |\n| Twilight                            | Romance   | Summit                | 82 | 10.180027 | 49 | 376.66100 | 2008 |\n| Twilight: Breaking Dawn             | Romance   | Independent           | 68 |  6.383364 | 26 | 702.17000 | 2011 |\n| Tyler Perry's Why Did I get Married | Romance   | Independent           | 47 |  3.724192 | 46 |  55.86289 | 2007 |\n| Valentine's Day                     | Comedy    | Warner Bros.          | 54 |  4.184038 | 17 | 217.57000 | 2010 |\n| Waiting For Forever                 | Romance   | Independent           | 53 |  0.005000 |  6 |   0.02500 | 2011 |\n| Waitress                            | Romance   | Independent           | 67 | 11.089742 | 89 |  22.17948 | 2007 |\n| WALL-E                              | Animation | Disney                | 89 |  2.896019 | 96 | 521.28343 | 2008 |\n| Water For Elephants                 | Drama     | 20th Century Fox      | 72 |  3.081421 | 60 | 117.09400 | 2011 |\n| What Happens in Vegas               | Comedy    | Fox                   | 72 |  6.267647 | 28 | 219.36765 | 2008 |\n| When in Rome                        | Comedy    | Disney                | 44 |        NA | 15 |  43.04000 | 2010 |\n| You Will Meet a Tall Dark Stranger  | Comedy    | Independent           | 35 |  1.211818 | 43 |  26.66000 | 2010 |\n| Youth in Revolt                     | Comedy    | The Weinstein Company | 52 |  1.090000 | 68 |  19.62000 | 2010 |\n| Zack and Miri Make a Porno          | Romance   | The Weinstein Company | 70 |  1.747542 | 64 |  41.94100 | 2008 |\n\n",
            "text/latex": "A data.frame: 74 × 8\n\\begin{tabular}{llllllll}\n Film & Genre & Lead.Studio & Audience..score.. & Profitability & Rotten.Tomatoes.. & Worldwide.Gross & Year\\\\\n <chr> & <chr> & <chr> & <int> & <dbl> & <int> & <dbl> & <int>\\\\\n\\hline\n\t 27 Dresses                         & Comedy    & Fox          & 71 &  5.3436218 & 40 & 160.308654 & 2008\\\\\n\t (500) Days of Summer               & Comedy    & Fox          & 81 &  8.0960000 & 87 &  60.720000 & 2009\\\\\n\t A Dangerous Method                 & Drama     & Independent  & 89 &  0.4486447 & 79 &   8.972895 & 2011\\\\\n\t A Serious Man                      & Drama     & Universal    & 64 &  4.3828571 & 89 &  30.680000 & 2009\\\\\n\t Across the Universe                & Romance   & Independent  & 84 &  0.6526032 & 54 &  29.367143 & 2007\\\\\n\t Beginners                          & Comedy    & Independent  & 80 &  4.4718750 & 84 &  14.310000 & 2011\\\\\n\t Dear John                          & Drama     & Sony         & 66 &  4.5988000 & 29 & 114.970000 & 2010\\\\\n\t Enchanted                          & Comedy    & Disney       & 80 &  4.0057371 & 93 & 340.487652 & 2007\\\\\n\t Fireproof                          & Drama     & Independent  & 51 & 66.9340000 & 40 &  33.467000 & 2008\\\\\n\t Four Christmases                   & Comedy    & Warner Bros. & 52 &  2.0229250 & 26 & 161.834000 & 2008\\\\\n\t Ghosts of Girlfriends Past         & Comedy    & Warner Bros. & 47 &  2.0444000 & 27 & 102.220000 & 2009\\\\\n\t Gnomeo and Juliet                  & Animation & Disney       & 52 &  5.3879722 & 56 & 193.967000 & 2011\\\\\n\t Going the Distance                 & Comedy    & Warner Bros. & 56 &  1.3140625 & 53 &  42.050000 & 2010\\\\\n\t Good Luck Chuck                    & Comedy    & Lionsgate    & 61 &  2.3676851 &  3 &  59.192128 & 2007\\\\\n\t He's Just Not That Into You        & Comedy    & Warner Bros. & 60 &  7.1536000 & 42 & 178.840000 & 2009\\\\\n\t High School Musical 3: Senior Year & Comedy    & Disney       & 76 & 22.9131365 & 65 & 252.044501 & 2008\\\\\n\t I Love You Phillip Morris          & Comedy    & Independent  & 57 &  1.3400000 & 71 &  20.100000 & 2010\\\\\n\t It's Complicated                   & Comedy    & Universal    & 63 &  2.6423529 & 56 & 224.600000 & 2009\\\\\n\t Jane Eyre                          & Romance   & Universal    & 77 &         NA & 85 &  30.147000 & 2011\\\\\n\t Just Wright                        & Comedy    & Fox          & 58 &  1.7974167 & 45 &  21.569000 & 2010\\\\\n\t Killers                            & Action    & Lionsgate    & 45 &  1.2453333 & 11 &  93.400000 & 2010\\\\\n\t Knocked Up                         & Comedy    & Universal    & 83 &  6.6364018 & 91 & 219.001261 & 2007\\\\\n\t Leap Year                          & Comedy    & Universal    & 49 &  1.7152632 & 21 &  32.590000 & 2010\\\\\n\t Letters to Juliet                  & Comedy    & Summit       & 62 &  2.6393333 & 40 &  79.180000 & 2010\\\\\n\t License to Wed                     & Comedy    & Warner Bros. & 55 &  1.9802064 &  8 &  69.307224 & 2007\\\\\n\t Life as We Know It                 & Comedy    & Independent  & 62 &  2.5305263 & 28 &  96.160000 & 2010\\\\\n\t Love \\& Other Drugs                 & Comedy    & Fox          & 55 &  1.8176667 & 48 &  54.530000 & 2010\\\\\n\t Love Happens                       & Drama     & Universal    & 40 &  2.0044444 & 18 &  36.080000 & 2009\\\\\n\t Made of Honor                      & Comedy    & Sony         & 61 &  2.6490683 & 13 & 105.962734 & 2008\\\\\n\t Mamma Mia!                         & Comedy    & Universal    & 76 &  9.2344539 & 53 & 609.473955 & 2008\\\\\n\t ⋮ & ⋮ & ⋮ & ⋮ & ⋮ & ⋮ & ⋮ & ⋮\\\\\n\t Penelope                            & Comedy    & Summit                & 74 &  1.382800 & 52 &  20.74200 & 2008\\\\\n\t Rachel Getting Married              & Drama     & Independent           & 61 &  1.384167 & 85 &  16.61000 & 2008\\\\\n\t Remember Me                         & Drama     & Summit                & 70 &  3.491250 & 28 &  55.86000 & 2010\\\\\n\t Sex and the City                    & Comedy    & Warner Bros.          & 81 &  7.221796 & 49 & 415.25326 & 2008\\\\\n\t Sex and the City 2                  & Comedy    & Warner Bros.          & 49 &  2.883500 & 15 & 288.35000 & 2010\\\\\n\t She's Out of My League              & Comedy    & Paramount             & 60 &  2.440500 & 57 &  48.81000 & 2010\\\\\n\t Something Borrowed                  & Romance   & Independent           & NA &  1.719514 & NA &  60.18300 & 2011\\\\\n\t Tangled                             & Animation & Disney                & 88 &  1.365692 & 89 & 355.08000 & 2010\\\\\n\t The Back-up Plan                    & Comedy    & CBS                   & 47 &  2.202571 & 20 &  77.09000 & 2010\\\\\n\t The Curious Case of Benjamin Button & Fantasy   & Warner Bros.          & 81 &  1.783944 & 73 & 285.43100 & 2008\\\\\n\t The Duchess                         & Drama     & Paramount             & 68 &  3.207850 & 60 &  43.30598 & 2008\\\\\n\t The Heartbreak Kid                  & Comedy    & Paramount             & 41 &  2.129444 & 30 & 127.76665 & 2007\\\\\n\t The Invention of Lying              & Comedy    & Warner Bros.          & 47 &  1.751351 & 56 &  32.40000 & 2009\\\\\n\t The Proposal                        & Comedy    & Disney                & 74 &  7.867500 & 43 & 314.70000 & 2009\\\\\n\t The Time Traveler's Wife            & Drama     & Paramount             & 65 &  2.598205 & 38 & 101.33000 & 2009\\\\\n\t The Twilight Saga: New Moon         & Drama     & Summit                & 78 & 14.196400 & 27 & 709.82000 & 2009\\\\\n\t The Ugly Truth                      & Comedy    & Independent           & 68 &  5.402632 & 14 & 205.30000 & 2009\\\\\n\t Twilight                            & Romance   & Summit                & 82 & 10.180027 & 49 & 376.66100 & 2008\\\\\n\t Twilight: Breaking Dawn             & Romance   & Independent           & 68 &  6.383364 & 26 & 702.17000 & 2011\\\\\n\t Tyler Perry's Why Did I get Married & Romance   & Independent           & 47 &  3.724192 & 46 &  55.86289 & 2007\\\\\n\t Valentine's Day                     & Comedy    & Warner Bros.          & 54 &  4.184038 & 17 & 217.57000 & 2010\\\\\n\t Waiting For Forever                 & Romance   & Independent           & 53 &  0.005000 &  6 &   0.02500 & 2011\\\\\n\t Waitress                            & Romance   & Independent           & 67 & 11.089742 & 89 &  22.17948 & 2007\\\\\n\t WALL-E                              & Animation & Disney                & 89 &  2.896019 & 96 & 521.28343 & 2008\\\\\n\t Water For Elephants                 & Drama     & 20th Century Fox      & 72 &  3.081421 & 60 & 117.09400 & 2011\\\\\n\t What Happens in Vegas               & Comedy    & Fox                   & 72 &  6.267647 & 28 & 219.36765 & 2008\\\\\n\t When in Rome                        & Comedy    & Disney                & 44 &        NA & 15 &  43.04000 & 2010\\\\\n\t You Will Meet a Tall Dark Stranger  & Comedy    & Independent           & 35 &  1.211818 & 43 &  26.66000 & 2010\\\\\n\t Youth in Revolt                     & Comedy    & The Weinstein Company & 52 &  1.090000 & 68 &  19.62000 & 2010\\\\\n\t Zack and Miri Make a Porno          & Romance   & The Weinstein Company & 70 &  1.747542 & 64 &  41.94100 & 2008\\\\\n\\end{tabular}\n"
          },
          "metadata": {}
        },
        {
          "output_type": "stream",
          "name": "stderr",
          "text": [
            "Installing package into ‘/usr/local/lib/R/site-library’\n",
            "(as ‘lib’ is unspecified)\n",
            "\n"
          ]
        },
        {
          "output_type": "stream",
          "name": "stdout",
          "text": [
            "'data.frame':\t74 obs. of  8 variables:\n",
            " $ Film             : chr  \"27 Dresses\" \"(500) Days of Summer\" \"A Dangerous Method\" \"A Serious Man\" ...\n",
            " $ Genre            : chr  \"Comedy\" \"Comedy\" \"Drama\" \"Drama\" ...\n",
            " $ Lead.Studio      : chr  \"Fox\" \"Fox\" \"Independent\" \"Universal\" ...\n",
            " $ Audience..score..: int  71 81 89 64 84 80 66 80 51 52 ...\n",
            " $ Profitability    : num  5.344 8.096 0.449 4.383 0.653 ...\n",
            " $ Rotten.Tomatoes..: int  40 87 79 89 54 84 29 93 40 26 ...\n",
            " $ Worldwide.Gross  : num  160.31 60.72 8.97 30.68 29.37 ...\n",
            " $ Year             : int  2008 2009 2011 2009 2007 2011 2010 2007 2008 2008 ...\n"
          ]
        }
      ],
      "source": [
        "#1. Load Data\n",
        "df<- read.csv(\"/content/drive/MyDrive/Project/HollywoodsMostProfitableStories.csv\")\n",
        "\n",
        "#2. Take a look at the data\n",
        "View(df)\n",
        "\n",
        "#3. Load library: ​\n",
        "install.packages(\"tidyverse\")\n",
        "\n",
        "#4. Import Library\n",
        "library(tidyverse)\n",
        "\n",
        "#5. Check Data Types\n",
        "str(df)"
      ]
    },
    {
      "cell_type": "code",
      "source": [
        "from google.colab import drive\n",
        "drive.mount('/content/drive')"
      ],
      "metadata": {
        "id": "uL4Jm7KOvGCe",
        "colab": {
          "base_uri": "https://localhost:8080/",
          "height": 106
        },
        "outputId": "83a6e3e6-5007-4a0c-9133-e1eae5279e69"
      },
      "execution_count": null,
      "outputs": [
        {
          "output_type": "error",
          "ename": "ERROR",
          "evalue": "Error in parse(text = x, srcfile = src): <text>:1:6: unexpected symbol\n1: from google.colab\n         ^\n",
          "traceback": [
            "Error in parse(text = x, srcfile = src): <text>:1:6: unexpected symbol\n1: from google.colab\n         ^\nTraceback:\n"
          ]
        }
      ]
    },
    {
      "cell_type": "markdown",
      "source": [
        "# Step 2: Clean Data"
      ],
      "metadata": {
        "id": "p5zAPrTpqp1n"
      }
    },
    {
      "cell_type": "code",
      "source": [
        "#1. Check For Missing Values\n",
        "colSums(is.na(df))\n",
        "\n"
      ],
      "metadata": {
        "id": "Ln7MkxNgnxh6",
        "colab": {
          "base_uri": "https://localhost:8080/",
          "height": 34
        },
        "outputId": "fd3567b1-dcb9-40a5-d0ca-b6d3ff27174f"
      },
      "execution_count": null,
      "outputs": [
        {
          "output_type": "display_data",
          "data": {
            "text/html": [
              "<style>\n",
              ".dl-inline {width: auto; margin:0; padding: 0}\n",
              ".dl-inline>dt, .dl-inline>dd {float: none; width: auto; display: inline-block}\n",
              ".dl-inline>dt::after {content: \":\\0020\"; padding-right: .5ex}\n",
              ".dl-inline>dt:not(:first-of-type) {padding-left: .5ex}\n",
              "</style><dl class=dl-inline><dt>Film</dt><dd>0</dd><dt>Genre</dt><dd>0</dd><dt>Lead.Studio</dt><dd>0</dd><dt>Audience..score..</dt><dd>1</dd><dt>Profitability</dt><dd>3</dd><dt>Rotten.Tomatoes..</dt><dd>1</dd><dt>Worldwide.Gross</dt><dd>0</dd><dt>Year</dt><dd>0</dd></dl>\n"
            ],
            "text/markdown": "Film\n:   0Genre\n:   0Lead.Studio\n:   0Audience..score..\n:   1Profitability\n:   3Rotten.Tomatoes..\n:   1Worldwide.Gross\n:   0Year\n:   0\n\n",
            "text/latex": "\\begin{description*}\n\\item[Film] 0\n\\item[Genre] 0\n\\item[Lead.Studio] 0\n\\item[Audience..score..] 1\n\\item[Profitability] 3\n\\item[Rotten.Tomatoes..] 1\n\\item[Worldwide.Gross] 0\n\\item[Year] 0\n\\end{description*}\n",
            "text/plain": [
              "             Film             Genre       Lead.Studio Audience..score.. \n",
              "                0                 0                 0                 1 \n",
              "    Profitability Rotten.Tomatoes..   Worldwide.Gross              Year \n",
              "                3                 1                 0                 0 "
            ]
          },
          "metadata": {}
        }
      ]
    },
    {
      "cell_type": "code",
      "source": [
        "#2. ​Drop Missing Values\n",
        "df <- na.omit(df)"
      ],
      "metadata": {
        "id": "ru1p1zJuqk3O"
      },
      "execution_count": null,
      "outputs": []
    },
    {
      "cell_type": "code",
      "source": [
        "#3. check to make sure that the rows have been removed ​\n",
        "View(df)\n",
        "colSums(is.na(df))"
      ],
      "metadata": {
        "id": "_6p8akypqnt2",
        "colab": {
          "base_uri": "https://localhost:8080/",
          "height": 1000
        },
        "outputId": "13509d3c-ed79-4b93-f791-d19f5c192d16"
      },
      "execution_count": null,
      "outputs": [
        {
          "output_type": "display_data",
          "data": {
            "text/plain": [
              "   Film                                Genre     Lead.Studio          \n",
              "1  27 Dresses                          Comedy    Fox                  \n",
              "2  (500) Days of Summer                Comedy    Fox                  \n",
              "3  A Dangerous Method                  Drama     Independent          \n",
              "4  A Serious Man                       Drama     Universal            \n",
              "5  Across the Universe                 Romance   Independent          \n",
              "6  Beginners                           Comedy    Independent          \n",
              "7  Dear John                           Drama     Sony                 \n",
              "8  Enchanted                           Comedy    Disney               \n",
              "9  Fireproof                           Drama     Independent          \n",
              "10 Four Christmases                    Comedy    Warner Bros.         \n",
              "11 Ghosts of Girlfriends Past          Comedy    Warner Bros.         \n",
              "12 Gnomeo and Juliet                   Animation Disney               \n",
              "13 Going the Distance                  Comedy    Warner Bros.         \n",
              "14 Good Luck Chuck                     Comedy    Lionsgate            \n",
              "15 He's Just Not That Into You         Comedy    Warner Bros.         \n",
              "16 High School Musical 3: Senior Year  Comedy    Disney               \n",
              "17 I Love You Phillip Morris           Comedy    Independent          \n",
              "18 It's Complicated                    Comedy    Universal            \n",
              "20 Just Wright                         Comedy    Fox                  \n",
              "21 Killers                             Action    Lionsgate            \n",
              "22 Knocked Up                          Comedy    Universal            \n",
              "23 Leap Year                           Comedy    Universal            \n",
              "24 Letters to Juliet                   Comedy    Summit               \n",
              "25 License to Wed                      Comedy    Warner Bros.         \n",
              "26 Life as We Know It                  Comedy    Independent          \n",
              "27 Love & Other Drugs                  Comedy    Fox                  \n",
              "28 Love Happens                        Drama     Universal            \n",
              "29 Made of Honor                       Comedy    Sony                 \n",
              "30 Mamma Mia!                          Comedy    Universal            \n",
              "31 Marley and Me                       Comedy    Fox                  \n",
              "⋮  ⋮                                   ⋮         ⋮                    \n",
              "43 Over Her Dead Body                  Comedy    New Line             \n",
              "44 P.S. I Love You                     Romance   Independent          \n",
              "45 Penelope                            Comedy    Summit               \n",
              "46 Rachel Getting Married              Drama     Independent          \n",
              "47 Remember Me                         Drama     Summit               \n",
              "48 Sex and the City                    Comedy    Warner Bros.         \n",
              "49 Sex and the City 2                  Comedy    Warner Bros.         \n",
              "50 She's Out of My League              Comedy    Paramount            \n",
              "52 Tangled                             Animation Disney               \n",
              "53 The Back-up Plan                    Comedy    CBS                  \n",
              "54 The Curious Case of Benjamin Button Fantasy   Warner Bros.         \n",
              "55 The Duchess                         Drama     Paramount            \n",
              "56 The Heartbreak Kid                  Comedy    Paramount            \n",
              "57 The Invention of Lying              Comedy    Warner Bros.         \n",
              "58 The Proposal                        Comedy    Disney               \n",
              "59 The Time Traveler's Wife            Drama     Paramount            \n",
              "60 The Twilight Saga: New Moon         Drama     Summit               \n",
              "61 The Ugly Truth                      Comedy    Independent          \n",
              "62 Twilight                            Romance   Summit               \n",
              "63 Twilight: Breaking Dawn             Romance   Independent          \n",
              "64 Tyler Perry's Why Did I get Married Romance   Independent          \n",
              "65 Valentine's Day                     Comedy    Warner Bros.         \n",
              "66 Waiting For Forever                 Romance   Independent          \n",
              "67 Waitress                            Romance   Independent          \n",
              "68 WALL-E                              Animation Disney               \n",
              "69 Water For Elephants                 Drama     20th Century Fox     \n",
              "70 What Happens in Vegas               Comedy    Fox                  \n",
              "72 You Will Meet a Tall Dark Stranger  Comedy    Independent          \n",
              "73 Youth in Revolt                     Comedy    The Weinstein Company\n",
              "74 Zack and Miri Make a Porno          Romance   The Weinstein Company\n",
              "   Audience..score.. Profitability Rotten.Tomatoes.. Worldwide.Gross Year\n",
              "1  71                 5.3436218    40                160.308654      2008\n",
              "2  81                 8.0960000    87                 60.720000      2009\n",
              "3  89                 0.4486447    79                  8.972895      2011\n",
              "4  64                 4.3828571    89                 30.680000      2009\n",
              "5  84                 0.6526032    54                 29.367143      2007\n",
              "6  80                 4.4718750    84                 14.310000      2011\n",
              "7  66                 4.5988000    29                114.970000      2010\n",
              "8  80                 4.0057371    93                340.487652      2007\n",
              "9  51                66.9340000    40                 33.467000      2008\n",
              "10 52                 2.0229250    26                161.834000      2008\n",
              "11 47                 2.0444000    27                102.220000      2009\n",
              "12 52                 5.3879722    56                193.967000      2011\n",
              "13 56                 1.3140625    53                 42.050000      2010\n",
              "14 61                 2.3676851     3                 59.192128      2007\n",
              "15 60                 7.1536000    42                178.840000      2009\n",
              "16 76                22.9131365    65                252.044501      2008\n",
              "17 57                 1.3400000    71                 20.100000      2010\n",
              "18 63                 2.6423529    56                224.600000      2009\n",
              "20 58                 1.7974167    45                 21.569000      2010\n",
              "21 45                 1.2453333    11                 93.400000      2010\n",
              "22 83                 6.6364018    91                219.001261      2007\n",
              "23 49                 1.7152632    21                 32.590000      2010\n",
              "24 62                 2.6393333    40                 79.180000      2010\n",
              "25 55                 1.9802064     8                 69.307224      2007\n",
              "26 62                 2.5305263    28                 96.160000      2010\n",
              "27 55                 1.8176667    48                 54.530000      2010\n",
              "28 40                 2.0044444    18                 36.080000      2009\n",
              "29 61                 2.6490683    13                105.962734      2008\n",
              "30 76                 9.2344539    53                609.473955      2008\n",
              "31 77                 3.7467818    63                206.073000      2008\n",
              "⋮  ⋮                 ⋮             ⋮                 ⋮               ⋮   \n",
              "43 47                 2.071000     15                 20.71000       2008\n",
              "44 82                 5.103117     21                153.09350       2007\n",
              "45 74                 1.382800     52                 20.74200       2008\n",
              "46 61                 1.384167     85                 16.61000       2008\n",
              "47 70                 3.491250     28                 55.86000       2010\n",
              "48 81                 7.221796     49                415.25326       2008\n",
              "49 49                 2.883500     15                288.35000       2010\n",
              "50 60                 2.440500     57                 48.81000       2010\n",
              "52 88                 1.365692     89                355.08000       2010\n",
              "53 47                 2.202571     20                 77.09000       2010\n",
              "54 81                 1.783944     73                285.43100       2008\n",
              "55 68                 3.207850     60                 43.30598       2008\n",
              "56 41                 2.129444     30                127.76665       2007\n",
              "57 47                 1.751351     56                 32.40000       2009\n",
              "58 74                 7.867500     43                314.70000       2009\n",
              "59 65                 2.598205     38                101.33000       2009\n",
              "60 78                14.196400     27                709.82000       2009\n",
              "61 68                 5.402632     14                205.30000       2009\n",
              "62 82                10.180027     49                376.66100       2008\n",
              "63 68                 6.383364     26                702.17000       2011\n",
              "64 47                 3.724192     46                 55.86289       2007\n",
              "65 54                 4.184038     17                217.57000       2010\n",
              "66 53                 0.005000      6                  0.02500       2011\n",
              "67 67                11.089742     89                 22.17948       2007\n",
              "68 89                 2.896019     96                521.28343       2008\n",
              "69 72                 3.081421     60                117.09400       2011\n",
              "70 72                 6.267647     28                219.36765       2008\n",
              "72 35                 1.211818     43                 26.66000       2010\n",
              "73 52                 1.090000     68                 19.62000       2010\n",
              "74 70                 1.747542     64                 41.94100       2008"
            ],
            "text/html": [
              "<table class=\"dataframe\">\n",
              "<caption>A data.frame: 70 × 8</caption>\n",
              "<thead>\n",
              "\t<tr><th></th><th scope=col>Film</th><th scope=col>Genre</th><th scope=col>Lead.Studio</th><th scope=col>Audience..score..</th><th scope=col>Profitability</th><th scope=col>Rotten.Tomatoes..</th><th scope=col>Worldwide.Gross</th><th scope=col>Year</th></tr>\n",
              "\t<tr><th></th><th scope=col>&lt;chr&gt;</th><th scope=col>&lt;chr&gt;</th><th scope=col>&lt;chr&gt;</th><th scope=col>&lt;int&gt;</th><th scope=col>&lt;dbl&gt;</th><th scope=col>&lt;int&gt;</th><th scope=col>&lt;dbl&gt;</th><th scope=col>&lt;int&gt;</th></tr>\n",
              "</thead>\n",
              "<tbody>\n",
              "\t<tr><th scope=row>1</th><td>27 Dresses                        </td><td>Comedy   </td><td>Fox         </td><td>71</td><td> 5.3436218</td><td>40</td><td>160.308654</td><td>2008</td></tr>\n",
              "\t<tr><th scope=row>2</th><td>(500) Days of Summer              </td><td>Comedy   </td><td>Fox         </td><td>81</td><td> 8.0960000</td><td>87</td><td> 60.720000</td><td>2009</td></tr>\n",
              "\t<tr><th scope=row>3</th><td>A Dangerous Method                </td><td>Drama    </td><td>Independent </td><td>89</td><td> 0.4486447</td><td>79</td><td>  8.972895</td><td>2011</td></tr>\n",
              "\t<tr><th scope=row>4</th><td>A Serious Man                     </td><td>Drama    </td><td>Universal   </td><td>64</td><td> 4.3828571</td><td>89</td><td> 30.680000</td><td>2009</td></tr>\n",
              "\t<tr><th scope=row>5</th><td>Across the Universe               </td><td>Romance  </td><td>Independent </td><td>84</td><td> 0.6526032</td><td>54</td><td> 29.367143</td><td>2007</td></tr>\n",
              "\t<tr><th scope=row>6</th><td>Beginners                         </td><td>Comedy   </td><td>Independent </td><td>80</td><td> 4.4718750</td><td>84</td><td> 14.310000</td><td>2011</td></tr>\n",
              "\t<tr><th scope=row>7</th><td>Dear John                         </td><td>Drama    </td><td>Sony        </td><td>66</td><td> 4.5988000</td><td>29</td><td>114.970000</td><td>2010</td></tr>\n",
              "\t<tr><th scope=row>8</th><td>Enchanted                         </td><td>Comedy   </td><td>Disney      </td><td>80</td><td> 4.0057371</td><td>93</td><td>340.487652</td><td>2007</td></tr>\n",
              "\t<tr><th scope=row>9</th><td>Fireproof                         </td><td>Drama    </td><td>Independent </td><td>51</td><td>66.9340000</td><td>40</td><td> 33.467000</td><td>2008</td></tr>\n",
              "\t<tr><th scope=row>10</th><td>Four Christmases                  </td><td>Comedy   </td><td>Warner Bros.</td><td>52</td><td> 2.0229250</td><td>26</td><td>161.834000</td><td>2008</td></tr>\n",
              "\t<tr><th scope=row>11</th><td>Ghosts of Girlfriends Past        </td><td>Comedy   </td><td>Warner Bros.</td><td>47</td><td> 2.0444000</td><td>27</td><td>102.220000</td><td>2009</td></tr>\n",
              "\t<tr><th scope=row>12</th><td>Gnomeo and Juliet                 </td><td>Animation</td><td>Disney      </td><td>52</td><td> 5.3879722</td><td>56</td><td>193.967000</td><td>2011</td></tr>\n",
              "\t<tr><th scope=row>13</th><td>Going the Distance                </td><td>Comedy   </td><td>Warner Bros.</td><td>56</td><td> 1.3140625</td><td>53</td><td> 42.050000</td><td>2010</td></tr>\n",
              "\t<tr><th scope=row>14</th><td>Good Luck Chuck                   </td><td>Comedy   </td><td>Lionsgate   </td><td>61</td><td> 2.3676851</td><td> 3</td><td> 59.192128</td><td>2007</td></tr>\n",
              "\t<tr><th scope=row>15</th><td>He's Just Not That Into You       </td><td>Comedy   </td><td>Warner Bros.</td><td>60</td><td> 7.1536000</td><td>42</td><td>178.840000</td><td>2009</td></tr>\n",
              "\t<tr><th scope=row>16</th><td>High School Musical 3: Senior Year</td><td>Comedy   </td><td>Disney      </td><td>76</td><td>22.9131365</td><td>65</td><td>252.044501</td><td>2008</td></tr>\n",
              "\t<tr><th scope=row>17</th><td>I Love You Phillip Morris         </td><td>Comedy   </td><td>Independent </td><td>57</td><td> 1.3400000</td><td>71</td><td> 20.100000</td><td>2010</td></tr>\n",
              "\t<tr><th scope=row>18</th><td>It's Complicated                  </td><td>Comedy   </td><td>Universal   </td><td>63</td><td> 2.6423529</td><td>56</td><td>224.600000</td><td>2009</td></tr>\n",
              "\t<tr><th scope=row>20</th><td>Just Wright                       </td><td>Comedy   </td><td>Fox         </td><td>58</td><td> 1.7974167</td><td>45</td><td> 21.569000</td><td>2010</td></tr>\n",
              "\t<tr><th scope=row>21</th><td>Killers                           </td><td>Action   </td><td>Lionsgate   </td><td>45</td><td> 1.2453333</td><td>11</td><td> 93.400000</td><td>2010</td></tr>\n",
              "\t<tr><th scope=row>22</th><td>Knocked Up                        </td><td>Comedy   </td><td>Universal   </td><td>83</td><td> 6.6364018</td><td>91</td><td>219.001261</td><td>2007</td></tr>\n",
              "\t<tr><th scope=row>23</th><td>Leap Year                         </td><td>Comedy   </td><td>Universal   </td><td>49</td><td> 1.7152632</td><td>21</td><td> 32.590000</td><td>2010</td></tr>\n",
              "\t<tr><th scope=row>24</th><td>Letters to Juliet                 </td><td>Comedy   </td><td>Summit      </td><td>62</td><td> 2.6393333</td><td>40</td><td> 79.180000</td><td>2010</td></tr>\n",
              "\t<tr><th scope=row>25</th><td>License to Wed                    </td><td>Comedy   </td><td>Warner Bros.</td><td>55</td><td> 1.9802064</td><td> 8</td><td> 69.307224</td><td>2007</td></tr>\n",
              "\t<tr><th scope=row>26</th><td>Life as We Know It                </td><td>Comedy   </td><td>Independent </td><td>62</td><td> 2.5305263</td><td>28</td><td> 96.160000</td><td>2010</td></tr>\n",
              "\t<tr><th scope=row>27</th><td><span style=white-space:pre-wrap>Love &amp; Other Drugs                </span></td><td><span style=white-space:pre-wrap>Comedy   </span></td><td><span style=white-space:pre-wrap>Fox         </span></td><td>55</td><td> 1.8176667</td><td>48</td><td> 54.530000</td><td>2010</td></tr>\n",
              "\t<tr><th scope=row>28</th><td>Love Happens                      </td><td>Drama    </td><td>Universal   </td><td>40</td><td> 2.0044444</td><td>18</td><td> 36.080000</td><td>2009</td></tr>\n",
              "\t<tr><th scope=row>29</th><td>Made of Honor                     </td><td>Comedy   </td><td>Sony        </td><td>61</td><td> 2.6490683</td><td>13</td><td>105.962734</td><td>2008</td></tr>\n",
              "\t<tr><th scope=row>30</th><td>Mamma Mia!                        </td><td>Comedy   </td><td>Universal   </td><td>76</td><td> 9.2344539</td><td>53</td><td>609.473955</td><td>2008</td></tr>\n",
              "\t<tr><th scope=row>31</th><td>Marley and Me                     </td><td>Comedy   </td><td>Fox         </td><td>77</td><td> 3.7467818</td><td>63</td><td>206.073000</td><td>2008</td></tr>\n",
              "\t<tr><th scope=row>⋮</th><td>⋮</td><td>⋮</td><td>⋮</td><td>⋮</td><td>⋮</td><td>⋮</td><td>⋮</td><td>⋮</td></tr>\n",
              "\t<tr><th scope=row>43</th><td>Over Her Dead Body                 </td><td>Comedy   </td><td>New Line             </td><td>47</td><td> 2.071000</td><td>15</td><td> 20.71000</td><td>2008</td></tr>\n",
              "\t<tr><th scope=row>44</th><td>P.S. I Love You                    </td><td>Romance  </td><td>Independent          </td><td>82</td><td> 5.103117</td><td>21</td><td>153.09350</td><td>2007</td></tr>\n",
              "\t<tr><th scope=row>45</th><td>Penelope                           </td><td>Comedy   </td><td>Summit               </td><td>74</td><td> 1.382800</td><td>52</td><td> 20.74200</td><td>2008</td></tr>\n",
              "\t<tr><th scope=row>46</th><td>Rachel Getting Married             </td><td>Drama    </td><td>Independent          </td><td>61</td><td> 1.384167</td><td>85</td><td> 16.61000</td><td>2008</td></tr>\n",
              "\t<tr><th scope=row>47</th><td>Remember Me                        </td><td>Drama    </td><td>Summit               </td><td>70</td><td> 3.491250</td><td>28</td><td> 55.86000</td><td>2010</td></tr>\n",
              "\t<tr><th scope=row>48</th><td>Sex and the City                   </td><td>Comedy   </td><td>Warner Bros.         </td><td>81</td><td> 7.221796</td><td>49</td><td>415.25326</td><td>2008</td></tr>\n",
              "\t<tr><th scope=row>49</th><td>Sex and the City 2                 </td><td>Comedy   </td><td>Warner Bros.         </td><td>49</td><td> 2.883500</td><td>15</td><td>288.35000</td><td>2010</td></tr>\n",
              "\t<tr><th scope=row>50</th><td>She's Out of My League             </td><td>Comedy   </td><td>Paramount            </td><td>60</td><td> 2.440500</td><td>57</td><td> 48.81000</td><td>2010</td></tr>\n",
              "\t<tr><th scope=row>52</th><td>Tangled                            </td><td>Animation</td><td>Disney               </td><td>88</td><td> 1.365692</td><td>89</td><td>355.08000</td><td>2010</td></tr>\n",
              "\t<tr><th scope=row>53</th><td>The Back-up Plan                   </td><td>Comedy   </td><td>CBS                  </td><td>47</td><td> 2.202571</td><td>20</td><td> 77.09000</td><td>2010</td></tr>\n",
              "\t<tr><th scope=row>54</th><td>The Curious Case of Benjamin Button</td><td>Fantasy  </td><td>Warner Bros.         </td><td>81</td><td> 1.783944</td><td>73</td><td>285.43100</td><td>2008</td></tr>\n",
              "\t<tr><th scope=row>55</th><td>The Duchess                        </td><td>Drama    </td><td>Paramount            </td><td>68</td><td> 3.207850</td><td>60</td><td> 43.30598</td><td>2008</td></tr>\n",
              "\t<tr><th scope=row>56</th><td>The Heartbreak Kid                 </td><td>Comedy   </td><td>Paramount            </td><td>41</td><td> 2.129444</td><td>30</td><td>127.76665</td><td>2007</td></tr>\n",
              "\t<tr><th scope=row>57</th><td>The Invention of Lying             </td><td>Comedy   </td><td>Warner Bros.         </td><td>47</td><td> 1.751351</td><td>56</td><td> 32.40000</td><td>2009</td></tr>\n",
              "\t<tr><th scope=row>58</th><td>The Proposal                       </td><td>Comedy   </td><td>Disney               </td><td>74</td><td> 7.867500</td><td>43</td><td>314.70000</td><td>2009</td></tr>\n",
              "\t<tr><th scope=row>59</th><td>The Time Traveler's Wife           </td><td>Drama    </td><td>Paramount            </td><td>65</td><td> 2.598205</td><td>38</td><td>101.33000</td><td>2009</td></tr>\n",
              "\t<tr><th scope=row>60</th><td>The Twilight Saga: New Moon        </td><td>Drama    </td><td>Summit               </td><td>78</td><td>14.196400</td><td>27</td><td>709.82000</td><td>2009</td></tr>\n",
              "\t<tr><th scope=row>61</th><td>The Ugly Truth                     </td><td>Comedy   </td><td>Independent          </td><td>68</td><td> 5.402632</td><td>14</td><td>205.30000</td><td>2009</td></tr>\n",
              "\t<tr><th scope=row>62</th><td>Twilight                           </td><td>Romance  </td><td>Summit               </td><td>82</td><td>10.180027</td><td>49</td><td>376.66100</td><td>2008</td></tr>\n",
              "\t<tr><th scope=row>63</th><td>Twilight: Breaking Dawn            </td><td>Romance  </td><td>Independent          </td><td>68</td><td> 6.383364</td><td>26</td><td>702.17000</td><td>2011</td></tr>\n",
              "\t<tr><th scope=row>64</th><td>Tyler Perry's Why Did I get Married</td><td>Romance  </td><td>Independent          </td><td>47</td><td> 3.724192</td><td>46</td><td> 55.86289</td><td>2007</td></tr>\n",
              "\t<tr><th scope=row>65</th><td>Valentine's Day                    </td><td>Comedy   </td><td>Warner Bros.         </td><td>54</td><td> 4.184038</td><td>17</td><td>217.57000</td><td>2010</td></tr>\n",
              "\t<tr><th scope=row>66</th><td>Waiting For Forever                </td><td>Romance  </td><td>Independent          </td><td>53</td><td> 0.005000</td><td> 6</td><td>  0.02500</td><td>2011</td></tr>\n",
              "\t<tr><th scope=row>67</th><td>Waitress                           </td><td>Romance  </td><td>Independent          </td><td>67</td><td>11.089742</td><td>89</td><td> 22.17948</td><td>2007</td></tr>\n",
              "\t<tr><th scope=row>68</th><td>WALL-E                             </td><td>Animation</td><td>Disney               </td><td>89</td><td> 2.896019</td><td>96</td><td>521.28343</td><td>2008</td></tr>\n",
              "\t<tr><th scope=row>69</th><td>Water For Elephants                </td><td>Drama    </td><td>20th Century Fox     </td><td>72</td><td> 3.081421</td><td>60</td><td>117.09400</td><td>2011</td></tr>\n",
              "\t<tr><th scope=row>70</th><td>What Happens in Vegas              </td><td>Comedy   </td><td>Fox                  </td><td>72</td><td> 6.267647</td><td>28</td><td>219.36765</td><td>2008</td></tr>\n",
              "\t<tr><th scope=row>72</th><td>You Will Meet a Tall Dark Stranger </td><td>Comedy   </td><td>Independent          </td><td>35</td><td> 1.211818</td><td>43</td><td> 26.66000</td><td>2010</td></tr>\n",
              "\t<tr><th scope=row>73</th><td>Youth in Revolt                    </td><td>Comedy   </td><td>The Weinstein Company</td><td>52</td><td> 1.090000</td><td>68</td><td> 19.62000</td><td>2010</td></tr>\n",
              "\t<tr><th scope=row>74</th><td>Zack and Miri Make a Porno         </td><td>Romance  </td><td>The Weinstein Company</td><td>70</td><td> 1.747542</td><td>64</td><td> 41.94100</td><td>2008</td></tr>\n",
              "</tbody>\n",
              "</table>\n"
            ],
            "text/markdown": "\nA data.frame: 70 × 8\n\n| <!--/--> | Film &lt;chr&gt; | Genre &lt;chr&gt; | Lead.Studio &lt;chr&gt; | Audience..score.. &lt;int&gt; | Profitability &lt;dbl&gt; | Rotten.Tomatoes.. &lt;int&gt; | Worldwide.Gross &lt;dbl&gt; | Year &lt;int&gt; |\n|---|---|---|---|---|---|---|---|---|\n| 1 | 27 Dresses                         | Comedy    | Fox          | 71 |  5.3436218 | 40 | 160.308654 | 2008 |\n| 2 | (500) Days of Summer               | Comedy    | Fox          | 81 |  8.0960000 | 87 |  60.720000 | 2009 |\n| 3 | A Dangerous Method                 | Drama     | Independent  | 89 |  0.4486447 | 79 |   8.972895 | 2011 |\n| 4 | A Serious Man                      | Drama     | Universal    | 64 |  4.3828571 | 89 |  30.680000 | 2009 |\n| 5 | Across the Universe                | Romance   | Independent  | 84 |  0.6526032 | 54 |  29.367143 | 2007 |\n| 6 | Beginners                          | Comedy    | Independent  | 80 |  4.4718750 | 84 |  14.310000 | 2011 |\n| 7 | Dear John                          | Drama     | Sony         | 66 |  4.5988000 | 29 | 114.970000 | 2010 |\n| 8 | Enchanted                          | Comedy    | Disney       | 80 |  4.0057371 | 93 | 340.487652 | 2007 |\n| 9 | Fireproof                          | Drama     | Independent  | 51 | 66.9340000 | 40 |  33.467000 | 2008 |\n| 10 | Four Christmases                   | Comedy    | Warner Bros. | 52 |  2.0229250 | 26 | 161.834000 | 2008 |\n| 11 | Ghosts of Girlfriends Past         | Comedy    | Warner Bros. | 47 |  2.0444000 | 27 | 102.220000 | 2009 |\n| 12 | Gnomeo and Juliet                  | Animation | Disney       | 52 |  5.3879722 | 56 | 193.967000 | 2011 |\n| 13 | Going the Distance                 | Comedy    | Warner Bros. | 56 |  1.3140625 | 53 |  42.050000 | 2010 |\n| 14 | Good Luck Chuck                    | Comedy    | Lionsgate    | 61 |  2.3676851 |  3 |  59.192128 | 2007 |\n| 15 | He's Just Not That Into You        | Comedy    | Warner Bros. | 60 |  7.1536000 | 42 | 178.840000 | 2009 |\n| 16 | High School Musical 3: Senior Year | Comedy    | Disney       | 76 | 22.9131365 | 65 | 252.044501 | 2008 |\n| 17 | I Love You Phillip Morris          | Comedy    | Independent  | 57 |  1.3400000 | 71 |  20.100000 | 2010 |\n| 18 | It's Complicated                   | Comedy    | Universal    | 63 |  2.6423529 | 56 | 224.600000 | 2009 |\n| 20 | Just Wright                        | Comedy    | Fox          | 58 |  1.7974167 | 45 |  21.569000 | 2010 |\n| 21 | Killers                            | Action    | Lionsgate    | 45 |  1.2453333 | 11 |  93.400000 | 2010 |\n| 22 | Knocked Up                         | Comedy    | Universal    | 83 |  6.6364018 | 91 | 219.001261 | 2007 |\n| 23 | Leap Year                          | Comedy    | Universal    | 49 |  1.7152632 | 21 |  32.590000 | 2010 |\n| 24 | Letters to Juliet                  | Comedy    | Summit       | 62 |  2.6393333 | 40 |  79.180000 | 2010 |\n| 25 | License to Wed                     | Comedy    | Warner Bros. | 55 |  1.9802064 |  8 |  69.307224 | 2007 |\n| 26 | Life as We Know It                 | Comedy    | Independent  | 62 |  2.5305263 | 28 |  96.160000 | 2010 |\n| 27 | Love &amp; Other Drugs                 | Comedy    | Fox          | 55 |  1.8176667 | 48 |  54.530000 | 2010 |\n| 28 | Love Happens                       | Drama     | Universal    | 40 |  2.0044444 | 18 |  36.080000 | 2009 |\n| 29 | Made of Honor                      | Comedy    | Sony         | 61 |  2.6490683 | 13 | 105.962734 | 2008 |\n| 30 | Mamma Mia!                         | Comedy    | Universal    | 76 |  9.2344539 | 53 | 609.473955 | 2008 |\n| 31 | Marley and Me                      | Comedy    | Fox          | 77 |  3.7467818 | 63 | 206.073000 | 2008 |\n| ⋮ | ⋮ | ⋮ | ⋮ | ⋮ | ⋮ | ⋮ | ⋮ | ⋮ |\n| 43 | Over Her Dead Body                  | Comedy    | New Line              | 47 |  2.071000 | 15 |  20.71000 | 2008 |\n| 44 | P.S. I Love You                     | Romance   | Independent           | 82 |  5.103117 | 21 | 153.09350 | 2007 |\n| 45 | Penelope                            | Comedy    | Summit                | 74 |  1.382800 | 52 |  20.74200 | 2008 |\n| 46 | Rachel Getting Married              | Drama     | Independent           | 61 |  1.384167 | 85 |  16.61000 | 2008 |\n| 47 | Remember Me                         | Drama     | Summit                | 70 |  3.491250 | 28 |  55.86000 | 2010 |\n| 48 | Sex and the City                    | Comedy    | Warner Bros.          | 81 |  7.221796 | 49 | 415.25326 | 2008 |\n| 49 | Sex and the City 2                  | Comedy    | Warner Bros.          | 49 |  2.883500 | 15 | 288.35000 | 2010 |\n| 50 | She's Out of My League              | Comedy    | Paramount             | 60 |  2.440500 | 57 |  48.81000 | 2010 |\n| 52 | Tangled                             | Animation | Disney                | 88 |  1.365692 | 89 | 355.08000 | 2010 |\n| 53 | The Back-up Plan                    | Comedy    | CBS                   | 47 |  2.202571 | 20 |  77.09000 | 2010 |\n| 54 | The Curious Case of Benjamin Button | Fantasy   | Warner Bros.          | 81 |  1.783944 | 73 | 285.43100 | 2008 |\n| 55 | The Duchess                         | Drama     | Paramount             | 68 |  3.207850 | 60 |  43.30598 | 2008 |\n| 56 | The Heartbreak Kid                  | Comedy    | Paramount             | 41 |  2.129444 | 30 | 127.76665 | 2007 |\n| 57 | The Invention of Lying              | Comedy    | Warner Bros.          | 47 |  1.751351 | 56 |  32.40000 | 2009 |\n| 58 | The Proposal                        | Comedy    | Disney                | 74 |  7.867500 | 43 | 314.70000 | 2009 |\n| 59 | The Time Traveler's Wife            | Drama     | Paramount             | 65 |  2.598205 | 38 | 101.33000 | 2009 |\n| 60 | The Twilight Saga: New Moon         | Drama     | Summit                | 78 | 14.196400 | 27 | 709.82000 | 2009 |\n| 61 | The Ugly Truth                      | Comedy    | Independent           | 68 |  5.402632 | 14 | 205.30000 | 2009 |\n| 62 | Twilight                            | Romance   | Summit                | 82 | 10.180027 | 49 | 376.66100 | 2008 |\n| 63 | Twilight: Breaking Dawn             | Romance   | Independent           | 68 |  6.383364 | 26 | 702.17000 | 2011 |\n| 64 | Tyler Perry's Why Did I get Married | Romance   | Independent           | 47 |  3.724192 | 46 |  55.86289 | 2007 |\n| 65 | Valentine's Day                     | Comedy    | Warner Bros.          | 54 |  4.184038 | 17 | 217.57000 | 2010 |\n| 66 | Waiting For Forever                 | Romance   | Independent           | 53 |  0.005000 |  6 |   0.02500 | 2011 |\n| 67 | Waitress                            | Romance   | Independent           | 67 | 11.089742 | 89 |  22.17948 | 2007 |\n| 68 | WALL-E                              | Animation | Disney                | 89 |  2.896019 | 96 | 521.28343 | 2008 |\n| 69 | Water For Elephants                 | Drama     | 20th Century Fox      | 72 |  3.081421 | 60 | 117.09400 | 2011 |\n| 70 | What Happens in Vegas               | Comedy    | Fox                   | 72 |  6.267647 | 28 | 219.36765 | 2008 |\n| 72 | You Will Meet a Tall Dark Stranger  | Comedy    | Independent           | 35 |  1.211818 | 43 |  26.66000 | 2010 |\n| 73 | Youth in Revolt                     | Comedy    | The Weinstein Company | 52 |  1.090000 | 68 |  19.62000 | 2010 |\n| 74 | Zack and Miri Make a Porno          | Romance   | The Weinstein Company | 70 |  1.747542 | 64 |  41.94100 | 2008 |\n\n",
            "text/latex": "A data.frame: 70 × 8\n\\begin{tabular}{r|llllllll}\n  & Film & Genre & Lead.Studio & Audience..score.. & Profitability & Rotten.Tomatoes.. & Worldwide.Gross & Year\\\\\n  & <chr> & <chr> & <chr> & <int> & <dbl> & <int> & <dbl> & <int>\\\\\n\\hline\n\t1 & 27 Dresses                         & Comedy    & Fox          & 71 &  5.3436218 & 40 & 160.308654 & 2008\\\\\n\t2 & (500) Days of Summer               & Comedy    & Fox          & 81 &  8.0960000 & 87 &  60.720000 & 2009\\\\\n\t3 & A Dangerous Method                 & Drama     & Independent  & 89 &  0.4486447 & 79 &   8.972895 & 2011\\\\\n\t4 & A Serious Man                      & Drama     & Universal    & 64 &  4.3828571 & 89 &  30.680000 & 2009\\\\\n\t5 & Across the Universe                & Romance   & Independent  & 84 &  0.6526032 & 54 &  29.367143 & 2007\\\\\n\t6 & Beginners                          & Comedy    & Independent  & 80 &  4.4718750 & 84 &  14.310000 & 2011\\\\\n\t7 & Dear John                          & Drama     & Sony         & 66 &  4.5988000 & 29 & 114.970000 & 2010\\\\\n\t8 & Enchanted                          & Comedy    & Disney       & 80 &  4.0057371 & 93 & 340.487652 & 2007\\\\\n\t9 & Fireproof                          & Drama     & Independent  & 51 & 66.9340000 & 40 &  33.467000 & 2008\\\\\n\t10 & Four Christmases                   & Comedy    & Warner Bros. & 52 &  2.0229250 & 26 & 161.834000 & 2008\\\\\n\t11 & Ghosts of Girlfriends Past         & Comedy    & Warner Bros. & 47 &  2.0444000 & 27 & 102.220000 & 2009\\\\\n\t12 & Gnomeo and Juliet                  & Animation & Disney       & 52 &  5.3879722 & 56 & 193.967000 & 2011\\\\\n\t13 & Going the Distance                 & Comedy    & Warner Bros. & 56 &  1.3140625 & 53 &  42.050000 & 2010\\\\\n\t14 & Good Luck Chuck                    & Comedy    & Lionsgate    & 61 &  2.3676851 &  3 &  59.192128 & 2007\\\\\n\t15 & He's Just Not That Into You        & Comedy    & Warner Bros. & 60 &  7.1536000 & 42 & 178.840000 & 2009\\\\\n\t16 & High School Musical 3: Senior Year & Comedy    & Disney       & 76 & 22.9131365 & 65 & 252.044501 & 2008\\\\\n\t17 & I Love You Phillip Morris          & Comedy    & Independent  & 57 &  1.3400000 & 71 &  20.100000 & 2010\\\\\n\t18 & It's Complicated                   & Comedy    & Universal    & 63 &  2.6423529 & 56 & 224.600000 & 2009\\\\\n\t20 & Just Wright                        & Comedy    & Fox          & 58 &  1.7974167 & 45 &  21.569000 & 2010\\\\\n\t21 & Killers                            & Action    & Lionsgate    & 45 &  1.2453333 & 11 &  93.400000 & 2010\\\\\n\t22 & Knocked Up                         & Comedy    & Universal    & 83 &  6.6364018 & 91 & 219.001261 & 2007\\\\\n\t23 & Leap Year                          & Comedy    & Universal    & 49 &  1.7152632 & 21 &  32.590000 & 2010\\\\\n\t24 & Letters to Juliet                  & Comedy    & Summit       & 62 &  2.6393333 & 40 &  79.180000 & 2010\\\\\n\t25 & License to Wed                     & Comedy    & Warner Bros. & 55 &  1.9802064 &  8 &  69.307224 & 2007\\\\\n\t26 & Life as We Know It                 & Comedy    & Independent  & 62 &  2.5305263 & 28 &  96.160000 & 2010\\\\\n\t27 & Love \\& Other Drugs                 & Comedy    & Fox          & 55 &  1.8176667 & 48 &  54.530000 & 2010\\\\\n\t28 & Love Happens                       & Drama     & Universal    & 40 &  2.0044444 & 18 &  36.080000 & 2009\\\\\n\t29 & Made of Honor                      & Comedy    & Sony         & 61 &  2.6490683 & 13 & 105.962734 & 2008\\\\\n\t30 & Mamma Mia!                         & Comedy    & Universal    & 76 &  9.2344539 & 53 & 609.473955 & 2008\\\\\n\t31 & Marley and Me                      & Comedy    & Fox          & 77 &  3.7467818 & 63 & 206.073000 & 2008\\\\\n\t⋮ & ⋮ & ⋮ & ⋮ & ⋮ & ⋮ & ⋮ & ⋮ & ⋮\\\\\n\t43 & Over Her Dead Body                  & Comedy    & New Line              & 47 &  2.071000 & 15 &  20.71000 & 2008\\\\\n\t44 & P.S. I Love You                     & Romance   & Independent           & 82 &  5.103117 & 21 & 153.09350 & 2007\\\\\n\t45 & Penelope                            & Comedy    & Summit                & 74 &  1.382800 & 52 &  20.74200 & 2008\\\\\n\t46 & Rachel Getting Married              & Drama     & Independent           & 61 &  1.384167 & 85 &  16.61000 & 2008\\\\\n\t47 & Remember Me                         & Drama     & Summit                & 70 &  3.491250 & 28 &  55.86000 & 2010\\\\\n\t48 & Sex and the City                    & Comedy    & Warner Bros.          & 81 &  7.221796 & 49 & 415.25326 & 2008\\\\\n\t49 & Sex and the City 2                  & Comedy    & Warner Bros.          & 49 &  2.883500 & 15 & 288.35000 & 2010\\\\\n\t50 & She's Out of My League              & Comedy    & Paramount             & 60 &  2.440500 & 57 &  48.81000 & 2010\\\\\n\t52 & Tangled                             & Animation & Disney                & 88 &  1.365692 & 89 & 355.08000 & 2010\\\\\n\t53 & The Back-up Plan                    & Comedy    & CBS                   & 47 &  2.202571 & 20 &  77.09000 & 2010\\\\\n\t54 & The Curious Case of Benjamin Button & Fantasy   & Warner Bros.          & 81 &  1.783944 & 73 & 285.43100 & 2008\\\\\n\t55 & The Duchess                         & Drama     & Paramount             & 68 &  3.207850 & 60 &  43.30598 & 2008\\\\\n\t56 & The Heartbreak Kid                  & Comedy    & Paramount             & 41 &  2.129444 & 30 & 127.76665 & 2007\\\\\n\t57 & The Invention of Lying              & Comedy    & Warner Bros.          & 47 &  1.751351 & 56 &  32.40000 & 2009\\\\\n\t58 & The Proposal                        & Comedy    & Disney                & 74 &  7.867500 & 43 & 314.70000 & 2009\\\\\n\t59 & The Time Traveler's Wife            & Drama     & Paramount             & 65 &  2.598205 & 38 & 101.33000 & 2009\\\\\n\t60 & The Twilight Saga: New Moon         & Drama     & Summit                & 78 & 14.196400 & 27 & 709.82000 & 2009\\\\\n\t61 & The Ugly Truth                      & Comedy    & Independent           & 68 &  5.402632 & 14 & 205.30000 & 2009\\\\\n\t62 & Twilight                            & Romance   & Summit                & 82 & 10.180027 & 49 & 376.66100 & 2008\\\\\n\t63 & Twilight: Breaking Dawn             & Romance   & Independent           & 68 &  6.383364 & 26 & 702.17000 & 2011\\\\\n\t64 & Tyler Perry's Why Did I get Married & Romance   & Independent           & 47 &  3.724192 & 46 &  55.86289 & 2007\\\\\n\t65 & Valentine's Day                     & Comedy    & Warner Bros.          & 54 &  4.184038 & 17 & 217.57000 & 2010\\\\\n\t66 & Waiting For Forever                 & Romance   & Independent           & 53 &  0.005000 &  6 &   0.02500 & 2011\\\\\n\t67 & Waitress                            & Romance   & Independent           & 67 & 11.089742 & 89 &  22.17948 & 2007\\\\\n\t68 & WALL-E                              & Animation & Disney                & 89 &  2.896019 & 96 & 521.28343 & 2008\\\\\n\t69 & Water For Elephants                 & Drama     & 20th Century Fox      & 72 &  3.081421 & 60 & 117.09400 & 2011\\\\\n\t70 & What Happens in Vegas               & Comedy    & Fox                   & 72 &  6.267647 & 28 & 219.36765 & 2008\\\\\n\t72 & You Will Meet a Tall Dark Stranger  & Comedy    & Independent           & 35 &  1.211818 & 43 &  26.66000 & 2010\\\\\n\t73 & Youth in Revolt                     & Comedy    & The Weinstein Company & 52 &  1.090000 & 68 &  19.62000 & 2010\\\\\n\t74 & Zack and Miri Make a Porno          & Romance   & The Weinstein Company & 70 &  1.747542 & 64 &  41.94100 & 2008\\\\\n\\end{tabular}\n"
          },
          "metadata": {}
        },
        {
          "output_type": "display_data",
          "data": {
            "text/html": [
              "<style>\n",
              ".dl-inline {width: auto; margin:0; padding: 0}\n",
              ".dl-inline>dt, .dl-inline>dd {float: none; width: auto; display: inline-block}\n",
              ".dl-inline>dt::after {content: \":\\0020\"; padding-right: .5ex}\n",
              ".dl-inline>dt:not(:first-of-type) {padding-left: .5ex}\n",
              "</style><dl class=dl-inline><dt>Film</dt><dd>0</dd><dt>Genre</dt><dd>0</dd><dt>Lead.Studio</dt><dd>0</dd><dt>Audience..score..</dt><dd>0</dd><dt>Profitability</dt><dd>0</dd><dt>Rotten.Tomatoes..</dt><dd>0</dd><dt>Worldwide.Gross</dt><dd>0</dd><dt>Year</dt><dd>0</dd></dl>\n"
            ],
            "text/markdown": "Film\n:   0Genre\n:   0Lead.Studio\n:   0Audience..score..\n:   0Profitability\n:   0Rotten.Tomatoes..\n:   0Worldwide.Gross\n:   0Year\n:   0\n\n",
            "text/latex": "\\begin{description*}\n\\item[Film] 0\n\\item[Genre] 0\n\\item[Lead.Studio] 0\n\\item[Audience..score..] 0\n\\item[Profitability] 0\n\\item[Rotten.Tomatoes..] 0\n\\item[Worldwide.Gross] 0\n\\item[Year] 0\n\\end{description*}\n",
            "text/plain": [
              "             Film             Genre       Lead.Studio Audience..score.. \n",
              "                0                 0                 0                 0 \n",
              "    Profitability Rotten.Tomatoes..   Worldwide.Gross              Year \n",
              "                0                 0                 0                 0 "
            ]
          },
          "metadata": {}
        }
      ]
    },
    {
      "cell_type": "markdown",
      "source": [
        "# **Step 3: Exploratory Data Analysis ​**"
      ],
      "metadata": {
        "id": "zOODyPkXrlx8"
      }
    },
    {
      "cell_type": "code",
      "source": [
        "#1. Summary Statistics\n",
        "summary(df)"
      ],
      "metadata": {
        "id": "o1W6PSATr4nC",
        "colab": {
          "base_uri": "https://localhost:8080/",
          "height": 260
        },
        "outputId": "27c787ba-ae29-4ae9-f827-345549b57b27"
      },
      "execution_count": null,
      "outputs": [
        {
          "output_type": "display_data",
          "data": {
            "text/plain": [
              "     Film              Genre           Lead.Studio        Audience..score..\n",
              " Length:70          Length:70          Length:70          Min.   :35.00    \n",
              " Class :character   Class :character   Class :character   1st Qu.:53.25    \n",
              " Mode  :character   Mode  :character   Mode  :character   Median :64.50    \n",
              "                                                          Mean   :64.46    \n",
              "                                                          3rd Qu.:75.50    \n",
              "                                                          Max.   :89.00    \n",
              " Profitability    Rotten.Tomatoes.. Worldwide.Gross        Year     \n",
              " Min.   : 0.005   Min.   : 3.00     Min.   :  0.025   Min.   :2007  \n",
              " 1st Qu.: 1.802   1st Qu.:27.25     1st Qu.: 32.809   1st Qu.:2008  \n",
              " Median : 2.646   Median :45.50     Median : 85.891   Median :2009  \n",
              " Mean   : 4.785   Mean   :47.76     Mean   :141.933   Mean   :2009  \n",
              " 3rd Qu.: 4.977   3rd Qu.:64.75     3rd Qu.:202.467   3rd Qu.:2010  \n",
              " Max.   :66.934   Max.   :96.00     Max.   :709.820   Max.   :2011  "
            ]
          },
          "metadata": {}
        }
      ]
    },
    {
      "cell_type": "code",
      "source": [
        "ggplot(df, aes(x=Year)) + geom_bar(fill=\"navy\")"
      ],
      "metadata": {
        "colab": {
          "base_uri": "https://localhost:8080/",
          "height": 437
        },
        "id": "8xORAMC4uZXu",
        "outputId": "cbf90278-0cab-4f07-ef9a-e868518e6389"
      },
      "execution_count": null,
      "outputs": [
        {
          "output_type": "display_data",
          "data": {
            "text/plain": [
              "plot without title"
            ],
            "image/png": "[encoded data removed]"
          },
          "metadata": {
            "image/png": {
              "width": 420,
              "height": 420
            }
          }
        }
      ]
    },
    {
      "cell_type": "markdown",
      "source": [
        "# Step 4: Export data  "
      ],
      "metadata": {
        "id": "WFPoiqD1dusF"
      }
    },
    {
      "cell_type": "code",
      "source": [
        "write.csv(df, \"clean_df.csv\")"
      ],
      "metadata": {
        "id": "Znwh4UJ9d7DW"
      },
      "execution_count": null,
      "outputs": []
    }
  ]
}