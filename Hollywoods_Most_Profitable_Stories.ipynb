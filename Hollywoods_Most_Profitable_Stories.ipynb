{
  "nbformat": 4,
  "nbformat_minor": 0,
  "metadata": {
    "colab": {
      "provenance": [],
      "mount_file_id": "1pH2NhILtK8VkTOlLMgg_BprQuyfNp8zK",
      "authorship_tag": "ABX9TyNuSDhk4FG55GNy+5hU27ul"
    },
    "kernelspec": {
      "name": "ir",
      "display_name": "R"
    },
    "language_info": {
      "name": "R"
    }
  },
  "cells": [
    {
      "cell_type": "markdown",
      "source": [
        "# Step 1: Initial Exploratory Analysis"
      ],
      "metadata": {
        "id": "zf8iaW8mrTaT"
      }
    },
    {
      "cell_type": "code",
      "execution_count": null,
      "metadata": {
        "id": "miBipXexlqf3"
      },
      "outputs": [],
      "source": [
        "#1. Load Data\n",
        "df<- read.csv(\"/content/drive/MyDrive/Project/HollywoodsMostProfitableStories.csv\")\n",
        "\n",
        "#2. Take a look at the data\n",
        "View(df)\n",
        "\n"
      ]
    },
    {
      "cell_type": "code",
      "source": [
        "#3. Load library: ​\n",
        "install.packages(\"tidyverse\")\n",
        "\n",
        "#4. Import Library\n",
        "library(tidyverse)\n"
      ],
      "metadata": {
        "id": "MUPuHqpuFySD"
      },
      "execution_count": null,
      "outputs": []
    },
    {
      "cell_type": "code",
      "source": [
        "#5. Check Data Types\n",
        "str(df)"
      ],
      "metadata": {
        "colab": {
          "base_uri": "https://localhost:8080/"
        },
        "id": "aFVvRfkRGtCZ",
        "outputId": "29ca2842-b2ef-44bf-9b96-4ce2ce07c503"
      },
      "execution_count": null,
      "outputs": [
        {
          "output_type": "stream",
          "name": "stdout",
          "text": [
            "'data.frame':\t74 obs. of  8 variables:\n",
            " $ Film             : chr  \"27 Dresses\" \"(500) Days of Summer\" \"A Dangerous Method\" \"A Serious Man\" ...\n",
            " $ Genre            : chr  \"Comedy\" \"Comedy\" \"Drama\" \"Drama\" ...\n",
            " $ Lead.Studio      : chr  \"Fox\" \"Fox\" \"Independent\" \"Universal\" ...\n",
            " $ Audience..score..: int  71 81 89 64 84 80 66 80 51 52 ...\n",
            " $ Profitability    : num  5.344 8.096 0.449 4.383 0.653 ...\n",
            " $ Rotten.Tomatoes..: int  40 87 79 89 54 84 29 93 40 26 ...\n",
            " $ Worldwide.Gross  : num  160.31 60.72 8.97 30.68 29.37 ...\n",
            " $ Year             : int  2008 2009 2011 2009 2007 2011 2010 2007 2008 2008 ...\n"
          ]
        }
      ]
    },
    {
      "cell_type": "code",
      "source": [
        "from google.colab import drive\n",
        "drive.mount('/content/drive')"
      ],
      "metadata": {
        "id": "uL4Jm7KOvGCe"
      },
      "execution_count": null,
      "outputs": []
    },
    {
      "cell_type": "markdown",
      "source": [
        "# Step 2: Clean Data"
      ],
      "metadata": {
        "id": "p5zAPrTpqp1n"
      }
    },
    {
      "cell_type": "code",
      "source": [
        "#1. Check For Missing Values\n",
        "colSums(is.na(df))\n",
        "\n"
      ],
      "metadata": {
        "id": "Ln7MkxNgnxh6"
      },
      "execution_count": null,
      "outputs": []
    },
    {
      "cell_type": "code",
      "source": [
        "#2. ​Drop Missing Values\n",
        "df <- na.omit(df)"
      ],
      "metadata": {
        "id": "ru1p1zJuqk3O"
      },
      "execution_count": null,
      "outputs": []
    },
    {
      "cell_type": "code",
      "source": [
        "#3. check to make sure that the rows have been removed ​\n",
        "View(df)\n",
        "colSums(is.na(df))"
      ],
      "metadata": {
        "id": "_6p8akypqnt2"
      },
      "execution_count": null,
      "outputs": []
    },
    {
      "cell_type": "markdown",
      "source": [
        "# **Step 3: Exploratory Data Analysis ​**"
      ],
      "metadata": {
        "id": "zOODyPkXrlx8"
      }
    },
    {
      "cell_type": "code",
      "source": [
        "#1. Summary Statistics\n",
        "summary(df)"
      ],
      "metadata": {
        "id": "o1W6PSATr4nC"
      },
      "execution_count": null,
      "outputs": []
    },
    {
      "cell_type": "code",
      "source": [
        "ggplot(df, aes(x=Year)) + geom_bar(fill=\"navy\")"
      ],
      "metadata": {
        "id": "8xORAMC4uZXu"
      },
      "execution_count": null,
      "outputs": []
    },
    {
      "cell_type": "markdown",
      "source": [
        "# Step 4: Export data  "
      ],
      "metadata": {
        "id": "WFPoiqD1dusF"
      }
    },
    {
      "cell_type": "code",
      "source": [
        "write.csv(df, \"clean_df.csv\")"
      ],
      "metadata": {
        "id": "Znwh4UJ9d7DW"
      },
      "execution_count": null,
      "outputs": []
    }
  ]
}